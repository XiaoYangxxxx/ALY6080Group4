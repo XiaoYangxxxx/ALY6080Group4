{
 "cells": [
  {
   "cell_type": "code",
   "execution_count": 26,
   "metadata": {},
   "outputs": [
    {
     "name": "stdout",
     "output_type": "stream",
     "text": [
      "              precision    recall  f1-score   support\n",
      "\n",
      "           0       0.92      0.99      0.95     54108\n",
      "           1       0.53      0.10      0.17      5327\n",
      "\n",
      "    accuracy                           0.91     59435\n",
      "   macro avg       0.73      0.55      0.56     59435\n",
      "weighted avg       0.88      0.91      0.88     59435\n",
      "\n",
      "[[53632   476]\n",
      " [ 4784   543]]\n",
      "        Coefficient\n",
      "Race_0    -0.411845\n",
      "Race_1    -0.670684\n",
      "Race_2    -0.894141\n",
      "Race_3    -0.392075\n",
      "Race_4    -0.621122\n",
      "Race_5    -0.447537\n"
     ]
    }
   ],
   "source": [
    "import pandas as pd\n",
    "from sklearn.model_selection import train_test_split\n",
    "from sklearn.linear_model import LogisticRegression\n",
    "from sklearn.metrics import classification_report, confusion_matrix\n",
    "from sklearn.preprocessing import OneHotEncoder\n",
    "\n",
    "# Load dataset\n",
    "df = pd.read_csv('df_cleaned.csv')\n",
    "\n",
    "# One-hot encode the 'Race' variable\n",
    "encoder = OneHotEncoder()\n",
    "# Ensure the encoder returns a dense array by setting sparse=False\n",
    "race_encoded = encoder.fit_transform(df[['Race']]).toarray()\n",
    "\n",
    "# Create a DataFrame from the encoded data with the correct indices\n",
    "race_encoded_df = pd.DataFrame(race_encoded,\n",
    "                               columns=encoder.get_feature_names_out(['Race']),\n",
    "                               index=df.index)\n",
    "\n",
    "# Combine the new DataFrame with the original DataFrame, drop the original 'Race' column    \n",
    "df = pd.concat([df.drop('Race', axis=1), race_encoded_df], axis=1)\n",
    "\n",
    "# Define features X and target y\n",
    "X = df.drop('HeartDisease', axis=1)  # assuming 'HeartDisease' is your target variable\n",
    "y = df['HeartDisease']\n",
    "\n",
    "# Split the data into training and testing sets\n",
    "X_train, X_test, y_train, y_test = train_test_split(X, y, test_size=0.2, random_state=42)\n",
    "\n",
    "# Create a logistic regression model\n",
    "model = LogisticRegression(max_iter=1000)  # Increase max_iter if the model doesn't converge\n",
    "\n",
    "# Fit the model\n",
    "model.fit(X_train, y_train)\n",
    "\n",
    "# Predict on the test data\n",
    "y_pred = model.predict(X_test)\n",
    "\n",
    "# Print the classification report and confusion matrix\n",
    "print(classification_report(y_test, y_pred))\n",
    "print(confusion_matrix(y_test, y_pred))\n",
    "\n",
    "# Print the model coefficients for the 'Race' features\n",
    "race_features = [col for col in X.columns if 'Race_' in col]\n",
    "coefficients = pd.DataFrame(model.coef_.flatten(), index=X.columns, columns=['Coefficient'])\n",
    "print(coefficients.loc[race_features])\n"
   ]
  },
  {
   "cell_type": "code",
   "execution_count": null,
   "metadata": {},
   "outputs": [],
   "source": [
    "#Random Forest\n",
    "from sklearn.ensemble import RandomForestClassifier\n",
    "X = df.drop('HeartDisease', axis=1)  # All other columns are features\n",
    "y = df['HeartDisease']  # 'HeartDisease' is the target\n",
    "\n",
    "# Split the dataset into training and testing sets\n",
    "X_train, X_test, y_train, y_test = train_test_split(X, y, test_size=0.2, stratify=y, random_state=42)\n",
    "\n",
    "# Create the Random Forest classifier\n",
    "random_forest = RandomForestClassifier(n_estimators=100, random_state=42)\n",
    "\n",
    "# Fit the model on the training data\n",
    "random_forest.fit(X_train, y_train)\n",
    "\n",
    "# Predict on the test data\n",
    "y_pred = random_forest.predict(X_test)\n",
    "\n",
    "# Evaluate the model's performance\n",
    "print(classification_report(y_test, y_pred))\n",
    "print(confusion_matrix(y_test, y_pred))\n"
   ]
  },
  {
   "cell_type": "code",
   "execution_count": null,
   "metadata": {},
   "outputs": [],
   "source": [
    "import numpy as np\n",
    "# Get the feature importances\n",
    "importances = random_forest.feature_importances_\n",
    "\n",
    "# Map these importances to the corresponding feature names\n",
    "feature_names = np.array(df.drop('HeartDisease', axis=1).columns)\n",
    "importance_dict = dict(zip(feature_names, importances))\n",
    "\n",
    "# Convert to a pandas DataFrame for easy viewing\n",
    "importance_df = pd.DataFrame.from_dict(importance_dict, orient='index', columns=['Importance'])\n",
    "\n",
    "# Sort the DataFrame to show the most important features at the top\n",
    "importance_df = importance_df.sort_values(by='Importance', ascending=False)\n",
    "\n",
    "# Print the feature importances\n",
    "print(importance_df)"
   ]
  }
 ],
 "metadata": {
  "kernelspec": {
   "display_name": "Python 3",
   "language": "python",
   "name": "python3"
  },
  "language_info": {
   "codemirror_mode": {
    "name": "ipython",
    "version": 3
   },
   "file_extension": ".py",
   "mimetype": "text/x-python",
   "name": "python",
   "nbconvert_exporter": "python",
   "pygments_lexer": "ipython3",
   "version": "3.11.9"
  }
 },
 "nbformat": 4,
 "nbformat_minor": 2
}
